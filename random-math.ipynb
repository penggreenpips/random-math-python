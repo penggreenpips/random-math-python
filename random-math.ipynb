{
 "cells": [
  {
   "cell_type": "code",
   "execution_count": 5,
   "metadata": {},
   "outputs": [
    {
     "data": {
      "text/plain": [
       "(-4, 4)"
      ]
     },
     "execution_count": 5,
     "metadata": {},
     "output_type": "execute_result"
    }
   ],
   "source": [
    "a = -4\n",
    "b = abs(a)\n",
    "a,b"
   ]
  },
  {
   "cell_type": "code",
   "execution_count": 9,
   "metadata": {},
   "outputs": [
    {
     "data": {
      "text/latex": [
       "$\\displaystyle |-4.3| = 4.3$"
      ],
      "text/plain": [
       "<IPython.core.display.Math object>"
      ]
     },
     "metadata": {},
     "output_type": "display_data"
    }
   ],
   "source": [
    "x = -4.3\n",
    "\n",
    "from IPython.display import display,Math \n",
    "\n",
    "display(Math('|%g| = %g' %(x, abs(x))))"
   ]
  },
  {
   "cell_type": "code",
   "execution_count": 13,
   "metadata": {
    "scrolled": true
   },
   "outputs": [
    {
     "name": "stdout",
     "output_type": "stream",
     "text": [
      "-4 was not tested.\n",
      "Absoulte value of 6 is 6\n",
      "-1 was not tested.\n",
      "Absoulte value of 43 is 43\n",
      "Absoulte value of -18 is 18\n",
      "2 was not tested.\n",
      "0 was not tested.\n"
     ]
    }
   ],
   "source": [
    "num = [-4,6,-1,43,-18,2,0]\n",
    "\n",
    "for numi in num:\n",
    "    if numi<-5 or numi>2:\n",
    "        print('Absoulte value of %g is %g' %(numi, abs(numi)))\n",
    "    else:\n",
    "        print( str(numi) + ' was not tested.')"
   ]
  },
  {
   "cell_type": "code",
   "execution_count": 30,
   "metadata": {},
   "outputs": [
    {
     "data": {
      "text/plain": [
       "265"
      ]
     },
     "execution_count": 30,
     "metadata": {},
     "output_type": "execute_result"
    }
   ],
   "source": [
    "a = 913313\n",
    "b = 3444\n",
    "\n",
    "#interger division\n",
    "int(a/b)"
   ]
  },
  {
   "cell_type": "code",
   "execution_count": 31,
   "metadata": {},
   "outputs": [
    {
     "data": {
      "text/plain": [
       "653"
      ]
     },
     "execution_count": 31,
     "metadata": {},
     "output_type": "execute_result"
    }
   ],
   "source": [
    "a%b"
   ]
  },
  {
   "cell_type": "code",
   "execution_count": 32,
   "metadata": {},
   "outputs": [
    {
     "name": "stdout",
     "output_type": "stream",
     "text": [
      "3444 goes into 913313, 265 times with a remainder of 653.\n"
     ]
    }
   ],
   "source": [
    "divis = int(a/b)\n",
    "remainder = a%b\n",
    "\n",
    "print('%g goes into %g, %g times with a remainder of %g.' %(b,a,divis,remainder))"
   ]
  },
  {
   "cell_type": "code",
   "execution_count": 41,
   "metadata": {},
   "outputs": [
    {
     "name": "stdout",
     "output_type": "stream",
     "text": [
      "-5 is an odd number\n",
      "-4 is an even number\n",
      "-3 is an odd number\n",
      "-2 is an even number\n",
      "-1 is an odd number\n",
      " 0 is an even number\n",
      " 1 is an odd number\n",
      " 2 is an even number\n",
      " 3 is an odd number\n",
      " 4 is an even number\n",
      " 5 is an odd number\n"
     ]
    }
   ],
   "source": [
    "num = range(-5,6)\n",
    "\n",
    "for i in num:\n",
    "    \n",
    "    firstchar = ' '\n",
    "    if i<0:\n",
    "        firstchar =''\n",
    "    \n",
    "    if i%2 == 0:\n",
    "        print('%s%g is an even number' %(firstchar,i))\n",
    "    else:\n",
    "        print('%s%g is an odd number' %(firstchar,i))\n",
    "    \n",
    "    "
   ]
  },
  {
   "cell_type": "code",
   "execution_count": 69,
   "metadata": {},
   "outputs": [],
   "source": [
    "def computeremainder(x,y):\n",
    "    divis = int( x/y )\n",
    "    remainder = x%y\n",
    "    \n",
    "    print('%g goes in to %g, %g times with a remainder of %g' %(y,x,divis,remainder))"
   ]
  },
  {
   "cell_type": "code",
   "execution_count": 70,
   "metadata": {},
   "outputs": [
    {
     "name": "stdout",
     "output_type": "stream",
     "text": [
      "3 goes in to 100, 33 times with a remainder of 1\n"
     ]
    }
   ],
   "source": [
    "computeremainder(100,3)"
   ]
  },
  {
   "cell_type": "code",
   "execution_count": 78,
   "metadata": {},
   "outputs": [],
   "source": [
    "def divisionwithinput():\n",
    "    \n",
    "    x = int(input('Input the numerator:'))\n",
    "    y = int(input('Input the demonitaor:'))\n",
    "    \n",
    "    divis = int( x/y )\n",
    "    remainder = x%y\n",
    "    \n",
    "    print('%g goes in to %g, %g times with a remainder of %g' %(y,x,divis,remainder))"
   ]
  },
  {
   "cell_type": "code",
   "execution_count": 79,
   "metadata": {},
   "outputs": [
    {
     "name": "stdout",
     "output_type": "stream",
     "text": [
      "Input the numerator:1313\n",
      "Input the demonitaor:1323\n",
      "1323 goes in to 1313, 0 times with a remainder of 1313\n"
     ]
    }
   ],
   "source": [
    "divisionwithinput()"
   ]
  },
  {
   "cell_type": "code",
   "execution_count": 39,
   "metadata": {},
   "outputs": [],
   "source": [
    "from IPython.display import display,Math\n",
    "\n",
    "def compute(x,y):\n",
    "    display(Math('%g^{%g} = %g' %(x,y,x**y)))\n",
    "    \n",
    "def division(x,y):\n",
    "    display(Math('\\\\frac{%g}{%g} = %g' %(x,y,x/y)))\n",
    "\n",
    "def mainfunction():\n",
    "    # get input from user\n",
    "    x = float( input('Input X:') )\n",
    "    y = float( input('Input Y:') )\n",
    "    \n",
    "    display(Math('\\\\text{ Press \"1\" to compute } %g^{%g} or \\\\text{ press \"2\" to compute } \\\\frac{%g}{%g}' %(x,y,x,y)))\n",
    "    \n",
    "    switch = input(' ')\n",
    "    \n",
    "    if switch== '1':\n",
    "        compute(x,y)\n",
    "    elif switch== '2':\n",
    "        division(x,y)\n",
    "    else:\n",
    "        print('Invalid Slection!')"
   ]
  },
  {
   "cell_type": "code",
   "execution_count": 40,
   "metadata": {},
   "outputs": [
    {
     "name": "stdout",
     "output_type": "stream",
     "text": [
      "Input X:441\n",
      "Input Y:31\n"
     ]
    },
    {
     "data": {
      "text/latex": [
       "$\\displaystyle \\text{ Press \"1\" to compute } 441^{31} or \\text{ press \"2\" to compute } \\frac{441}{31}$"
      ],
      "text/plain": [
       "<IPython.core.display.Math object>"
      ]
     },
     "metadata": {},
     "output_type": "display_data"
    },
    {
     "name": "stdout",
     "output_type": "stream",
     "text": [
      " 1\n"
     ]
    },
    {
     "data": {
      "text/latex": [
       "$\\displaystyle 441^{31} = 9.49722e+81$"
      ],
      "text/plain": [
       "<IPython.core.display.Math object>"
      ]
     },
     "metadata": {},
     "output_type": "display_data"
    }
   ],
   "source": [
    "mainfunction()"
   ]
  },
  {
   "cell_type": "code",
   "execution_count": null,
   "metadata": {},
   "outputs": [],
   "source": [
    "from IPython.display import display,Math\n",
    "\n",
    "from numpy import random\n",
    "\n",
    "random.randint(1,5)\n",
    "\n",
    "# function definition (no input nesccesary)\n",
    "def guessTheNumber():\n",
    "    \n",
    "\n",
    "\n",
    "# generate a random integer\n",
    "\n",
    "    num2guess = random.randint(1,101)\n",
    "\n",
    "# ask the user for a guess\n",
    "\n",
    "    userguess = int( input('1,101:  '))\n",
    "\n",
    "# check whether the number is a match\n",
    "    while userguess!=num2guess:\n",
    "\n",
    "        #if too low, print a massage and ask for another guess\n",
    "        if userguess<num2guess:\n",
    "            print('Guess higher!')\n",
    "        elif userguess>num2guess:\n",
    "            print('Guess lower!')\n",
    "            \n",
    "            \n",
    "        userguess = int( input('Guess again:' ))\n",
    "        \n",
    "        # if the guess is correct, congratuLate the user!\n",
    "        \n",
    "        print('YES!! You guessed correctly!')\n"
   ]
  },
  {
   "cell_type": "code",
   "execution_count": null,
   "metadata": {},
   "outputs": [],
   "source": [
    "guessTheNumber()"
   ]
  },
  {
   "cell_type": "code",
   "execution_count": null,
   "metadata": {},
   "outputs": [],
   "source": []
  }
 ],
 "metadata": {
  "kernelspec": {
   "display_name": "Python 3",
   "language": "python",
   "name": "python3"
  },
  "language_info": {
   "codemirror_mode": {
    "name": "ipython",
    "version": 3
   },
   "file_extension": ".py",
   "mimetype": "text/x-python",
   "name": "python",
   "nbconvert_exporter": "python",
   "pygments_lexer": "ipython3",
   "version": "3.7.4"
  }
 },
 "nbformat": 4,
 "nbformat_minor": 2
}
